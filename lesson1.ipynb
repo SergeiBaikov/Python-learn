{
 "cells": [
  {
   "cell_type": "markdown",
   "metadata": {},
   "source": [
    "Fork - это операция клонирования чужого репозитория в личный аккаунт GitHub, для дальнейшего pull request.\n",
    "\n",
    "Pull request - это операция передачи изменений из личного репозитория в fork-нутый репозиторий (возможно только при наличии изменений).\n",
    "\n",
    "Commit - это фиксация изменений.\n",
    "\n",
    "Git clone - это операция клонироваия репозитория из GitHub на локальный хост."
   ]
  },
  {
   "cell_type": "markdown",
   "metadata": {},
   "source": [
    "Создание виртуального окружения - python3 -m venv venv(название, может быть любого)."
   ]
  },
  {
   "cell_type": "code",
   "execution_count": 2,
   "metadata": {},
   "outputs": [
    {
     "name": "stdout",
     "output_type": "stream",
     "text": [
      "1155.77s - pydevd: Sending message related to process being replaced timed-out after 5 seconds\n",
      "asttokens==2.2.1\n",
      "backcall==0.2.0\n",
      "comm==0.1.4\n",
      "debugpy==1.6.7.post1\n",
      "decorator==5.1.1\n",
      "executing==1.2.0\n",
      "ipykernel==6.25.1\n",
      "ipython==8.14.0\n",
      "jedi==0.19.0\n",
      "jupyter_client==8.3.0\n",
      "jupyter_core==5.3.1\n",
      "matplotlib-inline==0.1.6\n",
      "nest-asyncio==1.5.7\n",
      "packaging==23.1\n",
      "parso==0.8.3\n",
      "pexpect==4.8.0\n",
      "pickleshare==0.7.5\n",
      "platformdirs==3.10.0\n",
      "prompt-toolkit==3.0.39\n",
      "psutil==5.9.5\n",
      "ptyprocess==0.7.0\n",
      "pure-eval==0.2.2\n",
      "Pygments==2.16.1\n",
      "python-dateutil==2.8.2\n",
      "pyzmq==25.1.1\n",
      "six==1.16.0\n",
      "stack-data==0.6.2\n",
      "tornado==6.3.3\n",
      "traitlets==5.9.0\n",
      "wcwidth==0.2.6\n"
     ]
    }
   ],
   "source": [
    "! pip freeze #взаимодействие с терминалом, отображение установленных зависимостей."
   ]
  },
  {
   "cell_type": "code",
   "execution_count": null,
   "metadata": {},
   "outputs": [],
   "source": [
    "! pip freeze > requirements.txt"
   ]
  },
  {
   "cell_type": "code",
   "execution_count": 2,
   "metadata": {},
   "outputs": [
    {
     "name": "stdout",
     "output_type": "stream",
     "text": [
      "Requirement already satisfied: asttokens==2.2.1 in ./venv/lib/python3.11/site-packages (from -r requirements.txt (line 1)) (2.2.1)\n",
      "Requirement already satisfied: backcall==0.2.0 in ./venv/lib/python3.11/site-packages (from -r requirements.txt (line 2)) (0.2.0)\n",
      "Requirement already satisfied: comm==0.1.4 in ./venv/lib/python3.11/site-packages (from -r requirements.txt (line 3)) (0.1.4)\n",
      "Requirement already satisfied: debugpy==1.6.7.post1 in ./venv/lib/python3.11/site-packages (from -r requirements.txt (line 4)) (1.6.7.post1)\n",
      "Requirement already satisfied: decorator==5.1.1 in ./venv/lib/python3.11/site-packages (from -r requirements.txt (line 5)) (5.1.1)\n",
      "Requirement already satisfied: executing==1.2.0 in ./venv/lib/python3.11/site-packages (from -r requirements.txt (line 6)) (1.2.0)\n",
      "Requirement already satisfied: ipykernel==6.25.1 in ./venv/lib/python3.11/site-packages (from -r requirements.txt (line 7)) (6.25.1)\n",
      "Requirement already satisfied: ipython==8.14.0 in ./venv/lib/python3.11/site-packages (from -r requirements.txt (line 8)) (8.14.0)\n",
      "Requirement already satisfied: jedi==0.19.0 in ./venv/lib/python3.11/site-packages (from -r requirements.txt (line 9)) (0.19.0)\n",
      "Requirement already satisfied: jupyter_client==8.3.0 in ./venv/lib/python3.11/site-packages (from -r requirements.txt (line 10)) (8.3.0)\n",
      "Requirement already satisfied: jupyter_core==5.3.1 in ./venv/lib/python3.11/site-packages (from -r requirements.txt (line 11)) (5.3.1)\n",
      "Requirement already satisfied: matplotlib-inline==0.1.6 in ./venv/lib/python3.11/site-packages (from -r requirements.txt (line 12)) (0.1.6)\n",
      "Requirement already satisfied: nest-asyncio==1.5.7 in ./venv/lib/python3.11/site-packages (from -r requirements.txt (line 13)) (1.5.7)\n",
      "Requirement already satisfied: packaging==23.1 in ./venv/lib/python3.11/site-packages (from -r requirements.txt (line 14)) (23.1)\n",
      "Requirement already satisfied: parso==0.8.3 in ./venv/lib/python3.11/site-packages (from -r requirements.txt (line 15)) (0.8.3)\n",
      "Requirement already satisfied: pexpect==4.8.0 in ./venv/lib/python3.11/site-packages (from -r requirements.txt (line 16)) (4.8.0)\n",
      "Requirement already satisfied: pickleshare==0.7.5 in ./venv/lib/python3.11/site-packages (from -r requirements.txt (line 17)) (0.7.5)\n",
      "Requirement already satisfied: platformdirs==3.10.0 in ./venv/lib/python3.11/site-packages (from -r requirements.txt (line 18)) (3.10.0)\n",
      "Requirement already satisfied: prompt-toolkit==3.0.39 in ./venv/lib/python3.11/site-packages (from -r requirements.txt (line 19)) (3.0.39)\n",
      "Requirement already satisfied: psutil==5.9.5 in ./venv/lib/python3.11/site-packages (from -r requirements.txt (line 20)) (5.9.5)\n",
      "Requirement already satisfied: ptyprocess==0.7.0 in ./venv/lib/python3.11/site-packages (from -r requirements.txt (line 21)) (0.7.0)\n",
      "Requirement already satisfied: pure-eval==0.2.2 in ./venv/lib/python3.11/site-packages (from -r requirements.txt (line 22)) (0.2.2)\n",
      "Requirement already satisfied: Pygments==2.16.1 in ./venv/lib/python3.11/site-packages (from -r requirements.txt (line 23)) (2.16.1)\n",
      "Requirement already satisfied: python-dateutil==2.8.2 in ./venv/lib/python3.11/site-packages (from -r requirements.txt (line 24)) (2.8.2)\n",
      "Requirement already satisfied: pyzmq==25.1.1 in ./venv/lib/python3.11/site-packages (from -r requirements.txt (line 25)) (25.1.1)\n",
      "Requirement already satisfied: six==1.16.0 in ./venv/lib/python3.11/site-packages (from -r requirements.txt (line 26)) (1.16.0)\n",
      "Requirement already satisfied: stack-data==0.6.2 in ./venv/lib/python3.11/site-packages (from -r requirements.txt (line 27)) (0.6.2)\n",
      "Collecting tornado==6.3.3\n",
      "  Using cached tornado-6.3.3-cp38-abi3-manylinux_2_5_x86_64.manylinux1_x86_64.manylinux_2_17_x86_64.manylinux2014_x86_64.whl (427 kB)\n",
      "Requirement already satisfied: traitlets==5.9.0 in ./venv/lib/python3.11/site-packages (from -r requirements.txt (line 29)) (5.9.0)\n",
      "Requirement already satisfied: wcwidth==0.2.6 in ./venv/lib/python3.11/site-packages (from -r requirements.txt (line 30)) (0.2.6)\n",
      "Installing collected packages: tornado\n",
      "Successfully installed tornado-6.3.3\n"
     ]
    }
   ],
   "source": [
    "! pip install -r requirements.txt"
   ]
  }
 ],
 "metadata": {
  "kernelspec": {
   "display_name": "venv",
   "language": "python",
   "name": "python3"
  },
  "language_info": {
   "codemirror_mode": {
    "name": "ipython",
    "version": 3
   },
   "file_extension": ".py",
   "mimetype": "text/x-python",
   "name": "python",
   "nbconvert_exporter": "python",
   "pygments_lexer": "ipython3",
   "version": "3.11.2"
  },
  "orig_nbformat": 4
 },
 "nbformat": 4,
 "nbformat_minor": 2
}
